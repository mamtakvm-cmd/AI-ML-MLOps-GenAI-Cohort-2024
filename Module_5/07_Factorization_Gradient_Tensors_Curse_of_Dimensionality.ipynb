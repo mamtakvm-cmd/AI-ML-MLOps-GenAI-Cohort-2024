{
 "cells": [
  {
   "cell_type": "markdown",
   "id": "e82c5f64",
   "metadata": {},
   "source": [
    "# Factorization"
   ]
  },
  {
   "cell_type": "code",
   "execution_count": null,
   "id": "c1c685f8",
   "metadata": {},
   "outputs": [],
   "source": [
    "recommended system\n",
    "\n",
    "- collaborative filtering -> similarities in users past behaviour x similar preferences of other users\n",
    "- content-based filtering -> product/items based on item characteristics"
   ]
  },
  {
   "cell_type": "code",
   "execution_count": null,
   "id": "667eb35b",
   "metadata": {},
   "outputs": [],
   "source": [
    "matrix factorization-\n",
    "\n",
    "- extracting features from 2 different matrix\n",
    "- relationship between items and users"
   ]
  },
  {
   "cell_type": "markdown",
   "id": "2aa4a722",
   "metadata": {},
   "source": [
    "# Singular Value Decomposition"
   ]
  },
  {
   "cell_type": "code",
   "execution_count": null,
   "id": "76eab52a",
   "metadata": {},
   "outputs": [],
   "source": [
    "- data compression\n",
    "- image processing\n",
    "   - denoise image\n",
    "   - removing background noise\n",
    "   - extract important features from the images\n",
    "- recommendation system"
   ]
  },
  {
   "cell_type": "code",
   "execution_count": null,
   "id": "98687e48",
   "metadata": {},
   "outputs": [],
   "source": [
    "svd\n",
    "\n",
    "- reduce the colors \n",
    "\n",
    "RGB  -> gray scale"
   ]
  },
  {
   "cell_type": "markdown",
   "id": "71a12a51",
   "metadata": {},
   "source": [
    "# Gradients"
   ]
  },
  {
   "cell_type": "code",
   "execution_count": null,
   "id": "df96291e",
   "metadata": {},
   "outputs": [],
   "source": [
    "gradient descent -> optimization algorithm\n",
    "\n",
    "to  minimize the cost/loss\n",
    "\n",
    "2 types of passes \n",
    "\n",
    "- forward pass\n",
    "- backward pass"
   ]
  },
  {
   "cell_type": "markdown",
   "id": "2903d27b",
   "metadata": {},
   "source": [
    "# Tensors"
   ]
  },
  {
   "cell_type": "code",
   "execution_count": null,
   "id": "9b3a78e5",
   "metadata": {},
   "outputs": [],
   "source": [
    "tensors are multidimensional arrays, that can hold data of different types and give u data structure to store it\n",
    "\n",
    "- data representation\n",
    "- best with GPUs\n",
    "- efficient processing\n",
    "\n",
    "\n",
    "- neural networks -> storing information like weights,biases,gradients\n",
    "- CNN  - use tensors for filters,detecting patterns in images\n"
   ]
  },
  {
   "cell_type": "code",
   "execution_count": null,
   "id": "e2baee1a",
   "metadata": {},
   "outputs": [],
   "source": [
    "frameworks\n",
    "\n",
    "- pytorch\n",
    "- tensorflow"
   ]
  },
  {
   "cell_type": "markdown",
   "id": "1d8f61e4",
   "metadata": {},
   "source": [
    "# Curse of dimentionality"
   ]
  },
  {
   "cell_type": "code",
   "execution_count": null,
   "id": "b04b0444",
   "metadata": {},
   "outputs": [],
   "source": [
    "- increased computation\n",
    "- overfitting \n",
    "- visualization challenges"
   ]
  },
  {
   "cell_type": "code",
   "execution_count": null,
   "id": "2f5de911",
   "metadata": {},
   "outputs": [],
   "source": [
    "solution\n",
    "\n",
    "- PCA - pincipal component analysis\n",
    "- autoencoders\n",
    "\n",
    "- LDA - Linear discriminant analysis"
   ]
  }
 ],
 "metadata": {
  "kernelspec": {
   "display_name": "Python 3 (ipykernel)",
   "language": "python",
   "name": "python3"
  },
  "language_info": {
   "codemirror_mode": {
    "name": "ipython",
    "version": 3
   },
   "file_extension": ".py",
   "mimetype": "text/x-python",
   "name": "python",
   "nbconvert_exporter": "python",
   "pygments_lexer": "ipython3",
   "version": "3.11.3"
  }
 },
 "nbformat": 4,
 "nbformat_minor": 5
}
